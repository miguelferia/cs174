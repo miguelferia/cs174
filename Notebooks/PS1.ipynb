{
 "cells": [
  {
   "cell_type": "markdown",
   "metadata": {},
   "source": [
    "# Problem Set 1 CS174\n",
    "---\n",
    "The following problem set will focus on the lessons on Python and basic string manipulation. Answer the following guide questions by writing functions or code in cells that accomplish the requirements.\n",
    "\n",
    "1. Write a function to check whether a string is a palindrome. (A palindrome is a string that reads the same forwards and backwards) **1 pt.**\n",
    "\n",
    "2. Write a function that checks whether a number is prime or not **1 pt.**\n",
    "\n",
    "3. Load `data/allstar.txt` and create a dictionary where the keys are the verses or chorus numbers, and the values are the chords for that part of the song. **4 pts.**\n",
    "`{ \"verse1\": \"Am, C, D, G, F, G, G, Bm\", \"chorus1\": \"C, Am, G, D, C, Am, G, D, C\"..}`\n",
    "\n",
    "4. Build a dictionary from `data/allstar.txt` where the keys are the unique words, and the values are the number of times the word appeared in the song. **4 pts.**\n",
    "\n",
    "5. Load `Rick Astley - Never Gonna Give You Up Lyrics _ AZLyrics.com.html` and find out the ff (show the code): **10 pts.**\n",
    "       - How many unique words are there?\n",
    "       - List what will Rick Astley never do?\n",
    "       - Write a function that lists all the unique words and counts the num of occurences. Output the result as a dictionary similar to **Item 4.**\n",
    "       - Use the dictionary from above to create a word count histogram.\n",
    "       \n",
    "### Bonus:\n",
    "Compare any non-English song (as long as lyrics are Romanized ) and a contemporary one in English, and create word frequency histograms of both. Compare and discuss any interesting findings or insights. **5 pts.**"
   ]
  },
  {
   "cell_type": "markdown",
   "metadata": {},
   "source": [
    "Deadline **Feb 4 11:59PM**. Submission link to be posted in Moodle. \n",
    "Submit the .ipynb file only with name <SURNAME>_<ID NUMBER>.ipynb. \n",
    "    \n",
    "Sample: **\"BAUTISTA_110464.ipynb\"**"
   ]
  },
  {
   "cell_type": "code",
   "execution_count": 1,
   "metadata": {},
   "outputs": [
    {
     "name": "stdout",
     "output_type": "stream",
     "text": [
      "Starting probset at Thu Jan 30 14:24:14 2020\n"
     ]
    }
   ],
   "source": [
    "import time\n",
    "print(\"Starting probset at {}\".format(time.ctime()))"
   ]
  },
  {
   "cell_type": "markdown",
   "metadata": {},
   "source": [
    "## 1. Write a function to check whether a string is a palindrome. (A palindrome is a string that reads the same forwards and backwards)"
   ]
  },
  {
   "cell_type": "code",
   "execution_count": 5,
   "metadata": {},
   "outputs": [],
   "source": [
    "def reverse_string(string):\n",
    "    rev_string =\"\"\n",
    "    for i in range(len(string)):\n",
    "        rev_string+=string[len(string)-i-1]\n",
    "    return rev_string\n",
    "\n",
    "def check_palindrome(string):\n",
    "    if string == reverse_string(string):\n",
    "        return True\n",
    "    else:\n",
    "        return False\n",
    "    \n",
    "def check_palindrome_alt(string):\n",
    "    check = True\n",
    "    i=0\n",
    "    while check and len(string)-1 != i:\n",
    "        if string[len(string)-i-1] == string[i]:\n",
    "            check = True\n",
    "            i+=1\n",
    "        else: \n",
    "            check = False\n",
    "    return check\n",
    "        "
   ]
  },
  {
   "cell_type": "code",
   "execution_count": 14,
   "metadata": {},
   "outputs": [
    {
     "name": "stdout",
     "output_type": "stream",
     "text": [
      "method I:\n",
      "Positive result: True\n",
      "CPU times: user 391 µs, sys: 24 µs, total: 415 µs\n",
      "Wall time: 413 µs\n",
      "Negative result: False\n",
      "CPU times: user 180 µs, sys: 45 µs, total: 225 µs\n",
      "Wall time: 194 µs\n",
      "----------\n",
      "method II:\n",
      "Positive result: True\n",
      "CPU times: user 467 µs, sys: 14 µs, total: 481 µs\n",
      "Wall time: 474 µs\n",
      "Negative result: False\n",
      "CPU times: user 150 µs, sys: 99 µs, total: 249 µs\n",
      "Wall time: 186 µs\n"
     ]
    }
   ],
   "source": [
    "string1 = \"dahfgkasjdhfgakwservservsrvs3v424234v23ehfknausefckusfaevaervserbaseljfhvseaehcnraksehrackeshrackesucesucrkseuucucnrkaseurcnkuksdjhfksjdhfskdjfhskdjfhskdjfhskdjfhskjdfhskdjfhskurehfks nekfuhsekufsrvesrserbserbserberb3rb3rbw3rbrbsferfbrr2br2br2ber2berb2erb2erb2erb2erb2eb2r23b34234b324hsckehscerkjsehcrsekrhscklhafcnsuenv3489y39485739845hn7honsyoiuyfbosvuyfovs78bryvo7isyfov7sryfkhrkva\"\n",
    "string = string1 + reverse_string(string1)\n",
    "print('method I:')\n",
    "%time print('Positive result: {}'.format(check_palindrome(string)))\n",
    "%time print('Negative result: {}'.format(check_palindrome(string1)))\n",
    "print('-'*10)\n",
    "print('method II:')\n",
    "%time print('Positive result: {}'.format(check_palindrome_alt(string)))\n",
    "%time print('Negative result: {}'.format(check_palindrome_alt(string1)))"
   ]
  },
  {
   "cell_type": "markdown",
   "metadata": {},
   "source": [
    "## 2. Write a function that checks whether a number is prime or not **1 pt.**"
   ]
  },
  {
   "cell_type": "code",
   "execution_count": 42,
   "metadata": {},
   "outputs": [],
   "source": [
    "import math\n",
    "def check_prime(number):\n",
    "    if number <= 1:\n",
    "        return False\n",
    "    if number == 2:\n",
    "        return True\n",
    "    if number%2==0:\n",
    "        print('even')\n",
    "        return False\n",
    "    for i in range(math.ceil(math.sqrt(number)))[3::]:\n",
    "        if number%i==0:\n",
    "            print(number,i)\n",
    "            return False\n",
    "    return True\n",
    "    "
   ]
  },
  {
   "cell_type": "code",
   "execution_count": 48,
   "metadata": {},
   "outputs": [
    {
     "data": {
      "text/plain": [
       "True"
      ]
     },
     "execution_count": 48,
     "metadata": {},
     "output_type": "execute_result"
    }
   ],
   "source": [
    "check_prime(100153)"
   ]
  },
  {
   "cell_type": "markdown",
   "metadata": {},
   "source": [
    "## 3. Load `data/allstar.txt` and create a dictionary where the keys are the verses or chorus numbers, and the values are the chords for that part of the song. **4 pts.**\n",
    "`{ \"verse1\": \"Am, C, D, G, F, G, G, Bm\", \"chorus1\": \"C, Am, G, D, C, Am, G, D, C\"..}`"
   ]
  },
  {
   "cell_type": "code",
   "execution_count": 231,
   "metadata": {},
   "outputs": [],
   "source": [
    "with open('data/allstar.txt', 'r') as f:\n",
    "    file = [line.strip('\\n').strip() for line in f]\n",
    "#get parts of song\n",
    "# parts = None\n",
    "file_token = [line.split() for line in file if line!='\\n']\n",
    "parts = [part.strip() for part in file if '[' in part]"
   ]
  },
  {
   "cell_type": "code",
   "execution_count": 232,
   "metadata": {},
   "outputs": [
    {
     "data": {
      "text/plain": [
       "['[Verse1]', '[Chorus1]', '[Verse2]', '[Chorus2]', '[Verse3]', '[Chorus3]']"
      ]
     },
     "execution_count": 232,
     "metadata": {},
     "output_type": "execute_result"
    }
   ],
   "source": [
    "parts"
   ]
  },
  {
   "cell_type": "code",
   "execution_count": 233,
   "metadata": {},
   "outputs": [
    {
     "data": {
      "text/plain": [
       "[0, 25, 34, 51, 68, 93]"
      ]
     },
     "execution_count": 233,
     "metadata": {},
     "output_type": "execute_result"
    }
   ],
   "source": [
    "indices_parts= [file.index(part) for part in parts]\n",
    "indices_parts"
   ]
  },
  {
   "cell_type": "code",
   "execution_count": 263,
   "metadata": {},
   "outputs": [],
   "source": [
    "chords_per_section = {\n",
    "    parts[0]:file_token[1:24:2],\n",
    "    parts[1]:file_token[26:33:2],\n",
    "    parts[2]:file_token[35:50:2],\n",
    "    parts[3]:file_token[52:67:2],\n",
    "    parts[4]:file_token[69:92:2],\n",
    "    parts[5]:file_token[94::2]\n",
    "}"
   ]
  },
  {
   "cell_type": "code",
   "execution_count": 281,
   "metadata": {},
   "outputs": [
    {
     "name": "stdout",
     "output_type": "stream",
     "text": [
      "[Verse1] [['G', 'D', 'Am', 'C'], ['G', 'D', 'Am', 'C'], ['G', 'D', 'Am'], ['C', 'G', 'D', 'Am', 'C'], ['G', 'D'], ['Am', 'C'], ['G', 'D'], ['Am', 'C'], ['G', 'D'], ['Am', 'C'], ['G', 'D'], ['Am', 'C']]\n",
      "----------\n",
      "[Chorus1] [['G', 'C', 'C#m', 'C'], ['G', 'C', 'C#m', 'C'], ['G', 'C', 'C#m'], ['C', 'G', 'F', 'C']]\n",
      "----------\n",
      "[Verse2] [['G', 'D'], ['Am', 'C'], ['G', 'D'], ['Am', 'C'], ['G', 'D'], ['Am', 'C'], ['G', 'D'], ['Am', 'C']]\n",
      "----------\n",
      "[Chorus2] [['G', 'C', 'C#m', 'C'], ['G', 'C', 'C#m', 'C'], ['G', 'C', 'C#m'], ['C', 'G', 'F', 'C'], ['G', 'C', 'C#m', 'C'], ['G', 'C', 'C#m', 'C'], ['G', 'C', 'C#m'], ['C', 'G', 'F', 'C']]\n",
      "----------\n",
      "[Verse3] [['G', 'D', 'Am', 'C'], ['G', 'D', 'Am', 'C'], ['G', 'D', 'Am', 'C'], ['G', 'D', 'Am', 'C'], ['G', 'D'], ['Am', 'C'], ['G', 'D'], ['Am', 'C'], ['G', 'D'], ['Am', 'C'], ['G', 'D'], ['Am', 'C']]\n",
      "----------\n",
      "[Chorus3] [['G', 'C', 'C#m', 'C'], ['G', 'C', 'C#m', 'C'], ['G', 'C', 'C#m'], ['C', 'G', 'F', 'C']]\n",
      "----------\n"
     ]
    }
   ],
   "source": [
    "for k,v in chords_per_section.items():\n",
    "    print(k,v)\n",
    "    print('-'*10)\n",
    "#this took me way too fucking long..."
   ]
  },
  {
   "cell_type": "code",
   "execution_count": 297,
   "metadata": {},
   "outputs": [
    {
     "data": {
      "text/plain": [
       "{'Am', 'C', 'C#m', 'D', 'F', 'G'}"
      ]
     },
     "execution_count": 297,
     "metadata": {},
     "output_type": "execute_result"
    }
   ],
   "source": [
    "unique_chords = [chord for chord in chords_per_section.values()]\n",
    "unique_chords = [chord for line in unique_chords for chord in line]\n",
    "unique_chords = [chord for line in unique_chords for chord in line]\n",
    "unique_chords = set(unique_chords)\n",
    "unique_chords"
   ]
  },
  {
   "cell_type": "markdown",
   "metadata": {},
   "source": [
    "## 4. Build a dictionary from `data/allstar.txt` where the keys are the unique words, and the values are the number of times the word appeared in the song. **4 pts.**"
   ]
  },
  {
   "cell_type": "code",
   "execution_count": 325,
   "metadata": {},
   "outputs": [],
   "source": [
    "from nltk import FreqDist"
   ]
  },
  {
   "cell_type": "code",
   "execution_count": 326,
   "metadata": {},
   "outputs": [],
   "source": [
    "dist = FreqDist([word for line in file_token for word in line])"
   ]
  },
  {
   "cell_type": "code",
   "execution_count": 327,
   "metadata": {},
   "outputs": [],
   "source": [
    "distribution = dict(dist)"
   ]
  },
  {
   "cell_type": "code",
   "execution_count": 328,
   "metadata": {},
   "outputs": [],
   "source": [
    "distribution = sorted(distribution.items(), key=lambda kv: kv[1], reverse = True)"
   ]
  },
  {
   "cell_type": "code",
   "execution_count": 329,
   "metadata": {},
   "outputs": [],
   "source": [
    "#filter out chords\n",
    "distribution_filtered = [(item[0],item[1]) for item in distribution if item[0] not in unique_chords and item[1]>4]"
   ]
  },
  {
   "cell_type": "code",
   "execution_count": 336,
   "metadata": {},
   "outputs": [
    {
     "data": {
      "image/png": "[encoded data removed]",
      "text/plain": [
       "<Figure size 1008x432 with 1 Axes>"
      ]
     },
     "metadata": {
      "needs_background": "light"
     },
     "output_type": "display_data"
    }
   ],
   "source": [
    "import matplotlib.pyplot as plt\n",
    "import numpy as np\n",
    "\n",
    "word = [word[0] for word in distribution]\n",
    "freq = [word[1] for word in distribution]\n",
    "x_pos = np.arange(len(word)) \n",
    "\n",
    "plt.figure(figsize=(14,6))\n",
    "plt.bar(x_pos,freq)\n",
    "# plt.xticks(x_pos, word,fontsize=11) \n",
    "plt.ylabel('All Star Word Frequency')\n",
    "plt.show()"
   ]
  },
  {
   "cell_type": "code",
   "execution_count": 338,
   "metadata": {},
   "outputs": [
    {
     "data": {
      "image/png": "[encoded data removed]",
      "text/plain": [
       "<Figure size 1008x432 with 1 Axes>"
      ]
     },
     "metadata": {
      "needs_background": "light"
     },
     "output_type": "display_data"
    }
   ],
   "source": [
    "word = [word[0] for word in distribution_filtered]\n",
    "freq = [word[1] for word in distribution_filtered]\n",
    "x_pos = np.arange(len(word)) \n",
    "\n",
    "plt.figure(figsize=(14,6))\n",
    "plt.bar(x_pos,freq)\n",
    "plt.xticks(x_pos, word,fontsize=11) \n",
    "plt.ylabel('All Star Word Frequency')\n",
    "plt.show()"
   ]
  },
  {
   "cell_type": "code",
   "execution_count": 339,
   "metadata": {},
   "outputs": [
    {
     "name": "stdout",
     "output_type": "stream",
     "text": [
      "Ending probset at Thu Jan 30 16:26:11 2020 lol\n"
     ]
    }
   ],
   "source": [
    "print(\"Ending probset at {} lol\".format(time.ctime()))"
   ]
  },
  {
   "cell_type": "code",
   "execution_count": null,
   "metadata": {},
   "outputs": [],
   "source": []
  }
 ],
 "metadata": {
  "kernelspec": {
   "display_name": "Python 3",
   "language": "python",
   "name": "python3"
  },
  "language_info": {
   "codemirror_mode": {
    "name": "ipython",
    "version": 3
   },
   "file_extension": ".py",
   "mimetype": "text/x-python",
   "name": "python",
   "nbconvert_exporter": "python",
   "pygments_lexer": "ipython3",
   "version": "3.7.5"
  }
 },
 "nbformat": 4,
 "nbformat_minor": 4
}
