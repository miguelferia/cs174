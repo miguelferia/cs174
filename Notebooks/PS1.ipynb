{
 "cells": [
  {
   "cell_type": "markdown",
   "metadata": {},
   "source": [
    "# Problem Set 1 CS174\n",
    "---\n",
    "The following problem set will focus on the lessons on Python and basic string manipulation. Answer the following guide questions by writing functions or code in cells that accomplish the requirements.\n",
    "\n",
    "1. Write a function to check whether a string is a palindrome. (A palindrome is a string that reads the same forwards and backwards) **1 pt.**\n",
    "\n",
    "2. Write a function that checks whether a number is prime or not **1 pt.**\n",
    "\n",
    "3. Load `data/allstar.txt` and create a dictionary where the keys are the verses or chorus numbers, and the values are the chords for that part of the song. **4 pts.**\n",
    "`{ \"verse1\": \"Am, C, D, G, F, G, G, Bm\", \"chorus1\": \"C, Am, G, D, C, Am, G, D, C\"..}`\n",
    "\n",
    "4. Build a dictionary from `data/allstar.txt` where the keys are the unique words, and the values are the number of times the word appeared in the song. **4 pts.**\n",
    "\n",
    "5. Load `Rick Astley - Never Gonna Give You Up Lyrics _ AZLyrics.com.html` and find out the ff (show the code): **10 pts.**\n",
    "       - How many unique words are there?\n",
    "       - List what will Rick Astley never do?\n",
    "       - Write a function that lists all the unique words and counts the num of occurences. Output the result as a dictionary similar to **Item 4.**\n",
    "       - Use the dictionary from above to create a word count histogram.\n",
    "       \n",
    "### Bonus:\n",
    "Compare any non-English song (as long as lyrics are Romanized ) and a contemporary one in English, and create word frequency histograms of both. Compare and discuss any interesting findings or insights. **5 pts.**"
   ]
  },
  {
   "cell_type": "markdown",
   "metadata": {},
   "source": [
    "Deadline **Feb 4 11:59PM**. Submission link to be posted in Moodle. \n",
    "Submit the .ipynb file only with name <SURNAME>_<ID NUMBER>.ipynb. \n",
    "    \n",
    "Sample: **\"BAUTISTA_110464.ipynb\"**"
   ]
  },
  {
   "cell_type": "code",
   "execution_count": 1,
   "metadata": {},
   "outputs": [
    {
     "name": "stdout",
     "output_type": "stream",
     "text": [
      "Starting probset at Thu Jan 30 20:27:42 2020\n"
     ]
    }
   ],
   "source": [
    "import time\n",
    "print(\"Starting probset at {}\".format(time.ctime()))"
   ]
  },
  {
   "cell_type": "markdown",
   "metadata": {},
   "source": [
    "## 1. Write a function to check whether a string is a palindrome. (A palindrome is a string that reads the same forwards and backwards)"
   ]
  },
  {
   "cell_type": "code",
   "execution_count": 2,
   "metadata": {},
   "outputs": [],
   "source": [
    "def reverse_string(string):\n",
    "    rev_string =\"\"\n",
    "    for i in range(len(string)):\n",
    "        rev_string+=string[len(string)-i-1]\n",
    "    return rev_string\n",
    "\n",
    "def check_palindrome(string):\n",
    "    if string == reverse_string(string):\n",
    "        return True\n",
    "    else:\n",
    "        return False\n",
    "    \n",
    "def check_palindrome_alt(string):\n",
    "    check = True\n",
    "    i=0\n",
    "    while check and len(string)-1 != i:\n",
    "        if string[len(string)-i-1] == string[i]:\n",
    "            check = True\n",
    "            i+=1\n",
    "        else: \n",
    "            check = False\n",
    "    return check\n",
    "        "
   ]
  },
  {
   "cell_type": "code",
   "execution_count": 3,
   "metadata": {},
   "outputs": [
    {
     "name": "stdout",
     "output_type": "stream",
     "text": [
      "method I:\n",
      "Positive result: True\n",
      "CPU times: user 576 µs, sys: 112 µs, total: 688 µs\n",
      "Wall time: 682 µs\n",
      "Negative result: False\n",
      "CPU times: user 491 µs, sys: 199 µs, total: 690 µs\n",
      "Wall time: 766 µs\n",
      "----------\n",
      "method II:\n",
      "Positive result: True\n",
      "CPU times: user 591 µs, sys: 70 µs, total: 661 µs\n",
      "Wall time: 657 µs\n",
      "Negative result: False\n",
      "CPU times: user 40 µs, sys: 14 µs, total: 54 µs\n",
      "Wall time: 47 µs\n"
     ]
    }
   ],
   "source": [
    "string1 = \"dahfgkasjdhfgakwservservsrvs3v424234v23ehfknausefckusfaevaervserbaseljfhvseaehcnraksehrackeshrackesucesucrkseuucucnrkaseurcnkuksdjhfksjdhfskdjfhskdjfhskdjfhskdjfhskjdfhskdjfhskurehfks nekfuhsekufsrvesrserbserbserberb3rb3rbw3rbrbsferfbrr2br2br2ber2berb2erb2erb2erb2erb2eb2r23b34234b324hsckehscerkjsehcrsekrhscklhafcnsuenv3489y39485739845hn7honsyoiuyfbosvuyfovs78bryvo7isyfov7sryfkhrkva\"\n",
    "string = string1 + reverse_string(string1)\n",
    "print('method I:')\n",
    "%time print('Positive result: {}'.format(check_palindrome(string)))\n",
    "%time print('Negative result: {}'.format(check_palindrome(string1)))\n",
    "print('-'*10)\n",
    "print('method II:')\n",
    "%time print('Positive result: {}'.format(check_palindrome_alt(string)))\n",
    "%time print('Negative result: {}'.format(check_palindrome_alt(string1)))"
   ]
  },
  {
   "cell_type": "markdown",
   "metadata": {},
   "source": [
    "## 2. Write a function that checks whether a number is prime or not **1 pt.**"
   ]
  },
  {
   "cell_type": "code",
   "execution_count": 4,
   "metadata": {},
   "outputs": [],
   "source": [
    "import math\n",
    "def check_prime(number):\n",
    "    if number <= 1:\n",
    "        return False\n",
    "    if number == 2:\n",
    "        return True\n",
    "    if number%2==0:\n",
    "        print('even')\n",
    "        return False\n",
    "    for i in range(math.ceil(math.sqrt(number)))[3::]:\n",
    "        if number%i==0:\n",
    "            print(number,i)\n",
    "            return False\n",
    "    return True\n",
    "    "
   ]
  },
  {
   "cell_type": "code",
   "execution_count": 5,
   "metadata": {},
   "outputs": [
    {
     "name": "stdout",
     "output_type": "stream",
     "text": [
      "CPU times: user 42 µs, sys: 1e+03 ns, total: 43 µs\n",
      "Wall time: 46.3 µs\n"
     ]
    },
    {
     "data": {
      "text/plain": [
       "True"
      ]
     },
     "execution_count": 5,
     "metadata": {},
     "output_type": "execute_result"
    }
   ],
   "source": [
    "%time check_prime(100153)"
   ]
  },
  {
   "cell_type": "markdown",
   "metadata": {},
   "source": [
    "## 3. Load `data/allstar.txt` and create a dictionary where the keys are the verses or chorus numbers, and the values are the chords for that part of the song. **4 pts.**\n",
    "`{ \"verse1\": \"Am, C, D, G, F, G, G, Bm\", \"chorus1\": \"C, Am, G, D, C, Am, G, D, C\"..}`"
   ]
  },
  {
   "cell_type": "code",
   "execution_count": 6,
   "metadata": {},
   "outputs": [],
   "source": [
    "with open('data/allstar.txt', 'r') as f:\n",
    "    file = [line.strip('\\n').strip() for line in f]\n",
    "    file_token = [line.split() for line in file if line!='\\n'] #get list of lines, then tokenize\n",
    "    parts = [part.strip() for part in file if '[' in part] #isolate the parts"
   ]
  },
  {
   "cell_type": "code",
   "execution_count": 7,
   "metadata": {},
   "outputs": [
    {
     "data": {
      "text/plain": [
       "['[Verse1]', '[Chorus1]', '[Verse2]', '[Chorus2]', '[Verse3]', '[Chorus3]']"
      ]
     },
     "execution_count": 7,
     "metadata": {},
     "output_type": "execute_result"
    }
   ],
   "source": [
    "parts"
   ]
  },
  {
   "cell_type": "code",
   "execution_count": 8,
   "metadata": {},
   "outputs": [
    {
     "data": {
      "text/plain": [
       "[0, 25, 34, 51, 68, 93]"
      ]
     },
     "execution_count": 8,
     "metadata": {},
     "output_type": "execute_result"
    }
   ],
   "source": [
    "indices_parts= [file.index(part) for part in parts]\n",
    "indices_parts #get the index at which the sections of the song appear"
   ]
  },
  {
   "cell_type": "code",
   "execution_count": 9,
   "metadata": {},
   "outputs": [
    {
     "data": {
      "text/plain": [
       "102"
      ]
     },
     "execution_count": 9,
     "metadata": {},
     "output_type": "execute_result"
    }
   ],
   "source": [
    "len(file_token)"
   ]
  },
  {
   "cell_type": "code",
   "execution_count": 10,
   "metadata": {},
   "outputs": [],
   "source": [
    "chords_per_section =  {}\n",
    "for i in indices_parts:\n",
    "    try:\n",
    "        chords_per_section.update({parts[indices_parts.index(i)]:file_token[i+1:indices_parts[indices_parts.index(i)+1]-1:2]})\n",
    "    except:\n",
    "        chords_per_section.update({parts[indices_parts.index(i)]:file_token[i+1::2]})"
   ]
  },
  {
   "cell_type": "code",
   "execution_count": 11,
   "metadata": {},
   "outputs": [
    {
     "name": "stdout",
     "output_type": "stream",
     "text": [
      "[Verse1] [['G', 'D', 'Am', 'C'], ['G', 'D', 'Am', 'C'], ['G', 'D', 'Am'], ['C', 'G', 'D', 'Am', 'C'], ['G', 'D'], ['Am', 'C'], ['G', 'D'], ['Am', 'C'], ['G', 'D'], ['Am', 'C'], ['G', 'D'], ['Am', 'C']]\n",
      "----------\n",
      "[Chorus1] [['G', 'C', 'C#m', 'C'], ['G', 'C', 'C#m', 'C'], ['G', 'C', 'C#m'], ['C', 'G', 'F', 'C']]\n",
      "----------\n",
      "[Verse2] [['G', 'D'], ['Am', 'C'], ['G', 'D'], ['Am', 'C'], ['G', 'D'], ['Am', 'C'], ['G', 'D'], ['Am', 'C']]\n",
      "----------\n",
      "[Chorus2] [['G', 'C', 'C#m', 'C'], ['G', 'C', 'C#m', 'C'], ['G', 'C', 'C#m'], ['C', 'G', 'F', 'C'], ['G', 'C', 'C#m', 'C'], ['G', 'C', 'C#m', 'C'], ['G', 'C', 'C#m'], ['C', 'G', 'F', 'C']]\n",
      "----------\n",
      "[Verse3] [['G', 'D', 'Am', 'C'], ['G', 'D', 'Am', 'C'], ['G', 'D', 'Am', 'C'], ['G', 'D', 'Am', 'C'], ['G', 'D'], ['Am', 'C'], ['G', 'D'], ['Am', 'C'], ['G', 'D'], ['Am', 'C'], ['G', 'D'], ['Am', 'C']]\n",
      "----------\n",
      "[Chorus3] [['G', 'C', 'C#m', 'C'], ['G', 'C', 'C#m', 'C'], ['G', 'C', 'C#m'], ['C', 'G', 'F', 'C']]\n",
      "----------\n"
     ]
    }
   ],
   "source": [
    "for k,v in chords_per_section.items():\n",
    "    print(k,v)\n",
    "    print('-'*10)\n",
    "#this took me way too fucking long..."
   ]
  },
  {
   "cell_type": "code",
   "execution_count": 39,
   "metadata": {},
   "outputs": [
    {
     "data": {
      "text/plain": [
       "{'Am', 'C', 'C#m', 'D', 'F', 'G'}"
      ]
     },
     "execution_count": 39,
     "metadata": {},
     "output_type": "execute_result"
    }
   ],
   "source": [
    "chords = []\n",
    "for k,v in chords_per_section.items():\n",
    "    for ch in v:\n",
    "        for c in ch:\n",
    "            chords.append(c)\n",
    "chords = set(chords)\n",
    "chords"
   ]
  },
  {
   "cell_type": "markdown",
   "metadata": {},
   "source": [
    "## 4. Build a dictionary from `data/allstar.txt` where the keys are the unique words, and the values are the number of times the word appeared in the song. **4 pts.**"
   ]
  },
  {
   "cell_type": "code",
   "execution_count": 40,
   "metadata": {},
   "outputs": [],
   "source": [
    "from nltk import FreqDist"
   ]
  },
  {
   "cell_type": "code",
   "execution_count": 41,
   "metadata": {},
   "outputs": [],
   "source": [
    "dist = FreqDist([word for line in file_token for word in line])"
   ]
  },
  {
   "cell_type": "code",
   "execution_count": 42,
   "metadata": {},
   "outputs": [],
   "source": [
    "distribution = dict(dist)"
   ]
  },
  {
   "cell_type": "code",
   "execution_count": 43,
   "metadata": {},
   "outputs": [],
   "source": [
    "distribution = sorted(distribution.items(), key=lambda kv: kv[1], reverse = True)"
   ]
  },
  {
   "cell_type": "code",
   "execution_count": 44,
   "metadata": {},
   "outputs": [
    {
     "data": {
      "text/plain": [
       "[('C', 48), ('G', 36), ('the', 24), ('D', 20), ('Am', 20)]"
      ]
     },
     "execution_count": 44,
     "metadata": {},
     "output_type": "execute_result"
    }
   ],
   "source": [
    "distribution[:5]"
   ]
  },
  {
   "cell_type": "code",
   "execution_count": 46,
   "metadata": {},
   "outputs": [
    {
     "data": {
      "text/plain": [
       "[('the', 24), ('get', 15), ('to', 10), ('now', 9), ('I', 8)]"
      ]
     },
     "execution_count": 46,
     "metadata": {},
     "output_type": "execute_result"
    }
   ],
   "source": [
    "#filter out chords\n",
    "distribution_filtered = [(item[0],item[1]) for item in distribution if item[0] not in chords and item[1]>4]\n",
    "distribution_filtered[:5]"
   ]
  },
  {
   "cell_type": "code",
   "execution_count": 47,
   "metadata": {},
   "outputs": [
    {
     "data": {
      "image/png": "[encoded data removed]",
      "text/plain": [
       "<Figure size 1008x432 with 1 Axes>"
      ]
     },
     "metadata": {
      "needs_background": "light"
     },
     "output_type": "display_data"
    }
   ],
   "source": [
    "import matplotlib.pyplot as plt\n",
    "import numpy as np\n",
    "\n",
    "word = [word[0] for word in distribution]\n",
    "freq = [word[1] for word in distribution]\n",
    "x_pos = np.arange(len(word)) \n",
    "\n",
    "plt.figure(figsize=(14,6))\n",
    "plt.bar(x_pos,freq)\n",
    "# plt.xticks(x_pos, word,fontsize=11) \n",
    "plt.ylabel('All Star Word Frequency')\n",
    "plt.show()"
   ]
  },
  {
   "cell_type": "code",
   "execution_count": 48,
   "metadata": {},
   "outputs": [
    {
     "data": {
      "image/png": "[encoded data removed]",
      "text/plain": [
       "<Figure size 1008x432 with 1 Axes>"
      ]
     },
     "metadata": {
      "needs_background": "light"
     },
     "output_type": "display_data"
    }
   ],
   "source": [
    "word = [word[0] for word in distribution_filtered]\n",
    "freq = [word[1] for word in distribution_filtered]\n",
    "x_pos = np.arange(len(word)) \n",
    "\n",
    "plt.figure(figsize=(14,6))\n",
    "plt.bar(x_pos,freq)\n",
    "plt.xticks(x_pos, word,fontsize=11) \n",
    "plt.ylabel('All Star Word Frequency')\n",
    "plt.show()"
   ]
  },
  {
   "cell_type": "markdown",
   "metadata": {},
   "source": [
    "## 5. Load `Rick Astley - Never Gonna Give You Up Lyrics _ AZLyrics.com.html` and find out the ff (show the code): **10 pts.**\n",
    "       - How many unique words are there?\n",
    "       - List what will Rick Astley never do?\n",
    "       - Write a function that lists all the unique words and counts the num of occurences. Output the result as a dictionary similar to "
   ]
  },
  {
   "cell_type": "code",
   "execution_count": 49,
   "metadata": {},
   "outputs": [],
   "source": [
    "from bs4 import BeautifulSoup"
   ]
  },
  {
   "cell_type": "code",
   "execution_count": 59,
   "metadata": {},
   "outputs": [],
   "source": [
    "def get_azlyrics(path):\n",
    "    with open(path, \"r\", encoding='utf-8') as f:\n",
    "        soup = BeautifulSoup(f.read())\n",
    "    lyrics_tags = soup.find_all(\"div\", attrs={\"class\": None, \"id\": None})\n",
    "    lyrics = [tag.getText() for tag in lyrics_tags]\n",
    "    return [line for line in lyrics[0].split('\\n') if line !='']"
   ]
  },
  {
   "cell_type": "code",
   "execution_count": 60,
   "metadata": {},
   "outputs": [],
   "source": [
    "path = 'data/Rick Astley - Never Gonna Give You Up Lyrics _ AZLyrics.com.html'\n",
    "lyrics = get_azlyrics(path)"
   ]
  },
  {
   "cell_type": "code",
   "execution_count": 91,
   "metadata": {},
   "outputs": [],
   "source": [
    "rick_never_gonna = list(set([line[12:] for line in lyrics \n",
    "                             if 'Never gonna' in line and line != 'Never gonna give, never gonna give']))"
   ]
  },
  {
   "cell_type": "code",
   "execution_count": 92,
   "metadata": {},
   "outputs": [
    {
     "data": {
      "text/plain": [
       "['give you up',\n",
       " 'make you cry',\n",
       " 'run around and desert you',\n",
       " 'say goodbye',\n",
       " 'let you down',\n",
       " 'tell a lie and hurt you']"
      ]
     },
     "execution_count": 92,
     "metadata": {},
     "output_type": "execute_result"
    }
   ],
   "source": [
    "rick_never_gonna"
   ]
  },
  {
   "cell_type": "code",
   "execution_count": 93,
   "metadata": {},
   "outputs": [],
   "source": [
    "dist_rickroll = FreqDist([word for line in lyrics for word in line.split()])\n",
    "dist_rickroll = dict(dist_rickroll)"
   ]
  },
  {
   "cell_type": "code",
   "execution_count": 94,
   "metadata": {},
   "outputs": [],
   "source": [
    "#frequency distribution of words sorted\n",
    "dist_rickroll = sorted(dist_rickroll.items(), key=lambda kv: kv[1], reverse = True)"
   ]
  },
  {
   "cell_type": "code",
   "execution_count": 101,
   "metadata": {},
   "outputs": [],
   "source": [
    "def get_sorted_dist(lyrics):\n",
    "    dist = dict(FreqDist([word for line in lyrics for word in line.split()]))\n",
    "    return sorted(dist.items(), key=lambda kv: kv[1], reverse = True)"
   ]
  },
  {
   "cell_type": "code",
   "execution_count": 95,
   "metadata": {},
   "outputs": [
    {
     "data": {
      "text/plain": [
       "[('gonna', 42), ('you', 39), ('Never', 38), ('and', 15), ('give', 10)]"
      ]
     },
     "execution_count": 95,
     "metadata": {},
     "output_type": "execute_result"
    }
   ],
   "source": [
    "dist_rickroll[:5]"
   ]
  },
  {
   "cell_type": "code",
   "execution_count": 96,
   "metadata": {},
   "outputs": [
    {
     "name": "stdout",
     "output_type": "stream",
     "text": [
      "Unique words: 88\n"
     ]
    }
   ],
   "source": [
    "print('Unique words: {}'.format(len(dist_rickroll)))"
   ]
  },
  {
   "cell_type": "code",
   "execution_count": 97,
   "metadata": {},
   "outputs": [
    {
     "name": "stdout",
     "output_type": "stream",
     "text": [
      "Rick Astley will never give you up.\n",
      "Rick Astley will never make you cry.\n",
      "Rick Astley will never run around and desert you.\n",
      "Rick Astley will never say goodbye.\n",
      "Rick Astley will never let you down.\n",
      "Rick Astley will never tell a lie and hurt you.\n"
     ]
    }
   ],
   "source": [
    "for i in rick_never_gonna:\n",
    "    print('Rick Astley will never {}.'.format(i))"
   ]
  },
  {
   "cell_type": "markdown",
   "metadata": {},
   "source": [
    "### Bonus:\n",
    "Compare any non-English song (as long as lyrics are Romanized ) and a contemporary one in English, and create word frequency histograms of both. Compare and discuss any interesting findings or insights. **5 pts.**"
   ]
  },
  {
   "cell_type": "code",
   "execution_count": 99,
   "metadata": {},
   "outputs": [],
   "source": [
    "mqnlyrics = get_azlyrics('data/Sergio Mendes - Mas Que Nada Lyrics | AZLyrics.com.html')"
   ]
  },
  {
   "cell_type": "code",
   "execution_count": 100,
   "metadata": {
    "collapsed": true,
    "jupyter": {
     "outputs_hidden": true
    }
   },
   "outputs": [
    {
     "data": {
      "text/plain": [
       "['Oooo, aria raio, oba, oba, oba',\n",
       " 'O o-o-o-o arya ayo, oba, oba, oba',\n",
       " 'Mas que nada',\n",
       " 'Sai da minha frente',\n",
       " 'Que eu quero passar',\n",
       " 'Pois o samba esta animado',\n",
       " 'O que eu quero e sambar',\n",
       " 'Este samba',\n",
       " 'Que e misto de maracatu',\n",
       " 'E samba de preto velho',\n",
       " 'Samba de preto tu',\n",
       " 'Mas que nada',\n",
       " 'Um samba como este tao legal',\n",
       " 'Voce nao vai querer',\n",
       " 'Que eu chegue no final',\n",
       " 'Oooo, aria raio, oba, oba, oba',\n",
       " 'O o-o-o-o arya ayo, oba, oba, oba',\n",
       " 'Mas que nada',\n",
       " 'Sai da minha frente',\n",
       " 'Que eu quero passar',\n",
       " 'Pois o samba esta animado',\n",
       " 'O que eu quero e sambar',\n",
       " 'Este samba',\n",
       " 'Que e misto de maracatu',\n",
       " 'E samba de preto velho',\n",
       " 'Samba de preto tu',\n",
       " 'Mas que nada',\n",
       " 'Um samba como este tao legal',\n",
       " 'Voce nao vai querer',\n",
       " 'Que eu chegue no final',\n",
       " 'Oooo, aria raio, oba, oba, oba',\n",
       " 'O o-o-o-o arya ayo, oba, oba, oba',\n",
       " 'Oba, oba, oba',\n",
       " 'Oba, oba, oba',\n",
       " 'Oba, oba...']"
      ]
     },
     "execution_count": 100,
     "metadata": {},
     "output_type": "execute_result"
    }
   ],
   "source": [
    "mqnlyrics"
   ]
  },
  {
   "cell_type": "code",
   "execution_count": 111,
   "metadata": {},
   "outputs": [
    {
     "data": {
      "image/png": "[encoded data removed]",
      "text/plain": [
       "<Figure size 1008x432 with 1 Axes>"
      ]
     },
     "metadata": {
      "needs_background": "light"
     },
     "output_type": "display_data"
    }
   ],
   "source": [
    "distmqn = get_sorted_dist(mqnlyrics)[:30]\n",
    "\n",
    "word = [word[0] for word in distmqn]\n",
    "freq = [word[1] for word in distmqn]\n",
    "x_pos = np.arange(len(word)) \n",
    "\n",
    "plt.figure(figsize=(14,6))\n",
    "plt.bar(x_pos,freq)\n",
    "plt.xticks(x_pos, word,fontsize=12, rotation = 'vertical') \n",
    "plt.ylabel('Mas Que Nada Word Frequency')\n",
    "plt.show()"
   ]
  },
  {
   "cell_type": "code",
   "execution_count": 110,
   "metadata": {},
   "outputs": [
    {
     "data": {
      "image/png": "[encoded data removed]",
      "text/plain": [
       "<Figure size 1008x432 with 1 Axes>"
      ]
     },
     "metadata": {
      "needs_background": "light"
     },
     "output_type": "display_data"
    }
   ],
   "source": [
    "nhnm_lyrics = get_azlyrics('data/Mos Def - No Hay Nada Mas Lyrics | AZLyrics.com.html')\n",
    "\n",
    "\n",
    "dist_nhnm = get_sorted_dist(nhnm_lyrics)[:30]\n",
    "\n",
    "word = [word[0] for word in dist_nhnm]\n",
    "freq = [word[1] for word in dist_nhnm]\n",
    "x_pos = np.arange(len(word)) \n",
    "\n",
    "plt.figure(figsize=(14,6))\n",
    "plt.bar(x_pos,freq)\n",
    "plt.xticks(x_pos, word,fontsize=12, rotation = 'vertical') \n",
    "plt.ylabel('No hay Nada Mas Word Frequency')\n",
    "plt.show()"
   ]
  },
  {
   "cell_type": "code",
   "execution_count": 113,
   "metadata": {},
   "outputs": [
    {
     "name": "stdout",
     "output_type": "stream",
     "text": [
      "Ending probset at Thu Jan 30 20:57:06 2020 lol\n"
     ]
    }
   ],
   "source": [
    "import time\n",
    "print(\"Ending probset at {} lol\".format(time.ctime()))"
   ]
  },
  {
   "cell_type": "code",
   "execution_count": null,
   "metadata": {},
   "outputs": [],
   "source": []
  }
 ],
 "metadata": {
  "kernelspec": {
   "display_name": "Python 3",
   "language": "python",
   "name": "python3"
  },
  "language_info": {
   "codemirror_mode": {
    "name": "ipython",
    "version": 3
   },
   "file_extension": ".py",
   "mimetype": "text/x-python",
   "name": "python",
   "nbconvert_exporter": "python",
   "pygments_lexer": "ipython3",
   "version": "3.7.5"
  }
 },
 "nbformat": 4,
 "nbformat_minor": 4
}
